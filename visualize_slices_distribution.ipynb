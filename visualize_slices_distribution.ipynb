{
 "cells": [
  {
   "cell_type": "code",
   "execution_count": 2,
   "id": "488307f8-dbf9-4146-9513-bbfe18af1bc8",
   "metadata": {},
   "outputs": [],
   "source": [
    "import pandas as pd\n",
    "import seaborn as sns\n",
    "import matplotlib.pyplot as plt"
   ]
  },
  {
   "cell_type": "code",
   "execution_count": 14,
   "id": "aa1ce555-31ee-4803-a0d4-e5765984c7b1",
   "metadata": {},
   "outputs": [],
   "source": [
    "patient_injuries = pd.read_csv(\"data/train.csv\", index_col=0)\n",
    "image_level_labels = pd.read_csv(\"data/image_level_labels.csv\", index_col=0)"
   ]
  },
  {
   "cell_type": "markdown",
   "id": "6a74de49-63a8-4d16-9e48-c1c0beadfe7f",
   "metadata": {},
   "source": [
    "# Types"
   ]
  },
  {
   "cell_type": "code",
   "execution_count": 15,
   "id": "26c774c3-81ff-4f1f-8f6a-88e8b7f99177",
   "metadata": {},
   "outputs": [
    {
     "data": {
      "text/plain": [
       "injury_name\n",
       "Active_Extravasation    6370\n",
       "Bowel                   5659\n",
       "Name: count, dtype: int64"
      ]
     },
     "execution_count": 15,
     "metadata": {},
     "output_type": "execute_result"
    }
   ],
   "source": [
    "image_level_labels[\"injury_name\"].value_counts()"
   ]
  },
  {
   "cell_type": "markdown",
   "id": "f5a1fd50-185e-4292-a4eb-9c674303de2a",
   "metadata": {},
   "source": [
    "# Consistency"
   ]
  },
  {
   "cell_type": "code",
   "execution_count": 19,
   "id": "852428d6-4ab1-4927-9c43-e32b6a5be2e9",
   "metadata": {},
   "outputs": [],
   "source": [
    "bowel_healthy2 = pd.Series(1, index=patient_injuries.index)\n",
    "extravasation_healthy2 = pd.Series(1, index=patient_injuries.index)\n",
    "unq_bowels = image_level_labels.loc[image_level_labels[\"injury_name\"] == \"Bowel\"].index.unique()\n",
    "unq_extravasation = image_level_labels.loc[image_level_labels[\"injury_name\"] == \"Active_Extravasation\"].index.unique()\n",
    "bowel_healthy2.loc[unq_bowels] = 0\n",
    "extravasation_healthy2.loc[unq_extravasation] = 0\n",
    "\n",
    "patient_injuries[\"bowel_healthy2\"] = bowel_healthy2\n",
    "patient_injuries[\"extravasation_healthy2\"] = extravasation_healthy2"
   ]
  },
  {
   "cell_type": "code",
   "execution_count": 21,
   "id": "1f600b34-e60a-4b70-9d08-053120b611fe",
   "metadata": {},
   "outputs": [],
   "source": [
    "assert (patient_injuries[\"bowel_healthy\"] != patient_injuries[\"bowel_healthy2\"]).sum() == 0\n",
    "assert (patient_injuries[\"extravasation_healthy\"] != patient_injuries[\"extravasation_healthy2\"]).sum() == 0"
   ]
  }
 ],
 "metadata": {
  "kernelspec": {
   "display_name": "Python 3 (ipykernel)",
   "language": "python",
   "name": "python3"
  },
  "language_info": {
   "codemirror_mode": {
    "name": "ipython",
    "version": 3
   },
   "file_extension": ".py",
   "mimetype": "text/x-python",
   "name": "python",
   "nbconvert_exporter": "python",
   "pygments_lexer": "ipython3",
   "version": "3.10.12"
  }
 },
 "nbformat": 4,
 "nbformat_minor": 5
}
